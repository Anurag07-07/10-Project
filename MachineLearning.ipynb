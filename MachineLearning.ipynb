{
  "nbformat": 4,
  "nbformat_minor": 0,
  "metadata": {
    "colab": {
      "provenance": [],
      "authorship_tag": "ABX9TyOQT1XAbS443jh3iZHjtor2",
      "include_colab_link": true
    },
    "kernelspec": {
      "name": "python3",
      "display_name": "Python 3"
    },
    "language_info": {
      "name": "python"
    }
  },
  "cells": [
    {
      "cell_type": "markdown",
      "metadata": {
        "id": "view-in-github",
        "colab_type": "text"
      },
      "source": [
        "<a href=\"https://colab.research.google.com/github/Anurag07-07/10-Project/blob/main/MachineLearning.ipynb\" target=\"_parent\"><img src=\"https://colab.research.google.com/assets/colab-badge.svg\" alt=\"Open In Colab\"/></a>"
      ]
    },
    {
      "cell_type": "code",
      "execution_count": 1,
      "metadata": {
        "colab": {
          "base_uri": "https://localhost:8080/"
        },
        "id": "OHRJ8Pd8meiT",
        "outputId": "b9fd6b6e-548e-4a66-a5a1-d48cbe140cdd"
      },
      "outputs": [
        {
          "output_type": "stream",
          "name": "stdout",
          "text": [
            "Hello World\n"
          ]
        }
      ],
      "source": [
        "print(\"Hello World\")"
      ]
    },
    {
      "cell_type": "markdown",
      "source": [
        "# Sum of Two Number"
      ],
      "metadata": {
        "id": "MJEacY2cnSlJ"
      }
    },
    {
      "cell_type": "code",
      "source": [
        "a = int(input(\"Enter Number 1 \"))\n",
        "b = int(input(\"Enter Number 2 \"))\n",
        "sum = a+b\n",
        "print('The Sum is:',sum)"
      ],
      "metadata": {
        "colab": {
          "base_uri": "https://localhost:8080/"
        },
        "id": "5FY3xz0dmiPP",
        "outputId": "18311a13-470b-4b0f-86b7-0f27f878ea4e"
      },
      "execution_count": 3,
      "outputs": [
        {
          "output_type": "stream",
          "name": "stdout",
          "text": [
            "Enter Number 1 45\n",
            "Enter Number 2 65\n",
            "The Sum is: 110\n"
          ]
        }
      ]
    },
    {
      "cell_type": "code",
      "source": [
        "q = None\n",
        "# None denotes Null Value\n",
        "print(type(q))"
      ],
      "metadata": {
        "colab": {
          "base_uri": "https://localhost:8080/"
        },
        "id": "Si4XIaULnxfs",
        "outputId": "b8e2e514-84bf-4a70-bf21-28ffeea45b7f"
      },
      "execution_count": 4,
      "outputs": [
        {
          "output_type": "stream",
          "name": "stdout",
          "text": [
            "<class 'NoneType'>\n"
          ]
        }
      ]
    },
    {
      "cell_type": "code",
      "source": [
        "a = input(\"Enter Name \")\n",
        "print(\"Hello \"+a)"
      ],
      "metadata": {
        "colab": {
          "base_uri": "https://localhost:8080/"
        },
        "id": "caQzyhTOsaNP",
        "outputId": "ebbe8d89-37f1-47eb-8686-2e03c9051bce"
      },
      "execution_count": 6,
      "outputs": [
        {
          "output_type": "stream",
          "name": "stdout",
          "text": [
            "Enter Name Anurag\n",
            "Hello Anurag\n"
          ]
        }
      ]
    },
    {
      "cell_type": "code",
      "source": [
        "# Float into Integer\n",
        "a = 4.5654\n",
        "b = int(a)\n",
        "print(b)\n",
        "\n",
        "# int to string\n",
        "a = 45\n",
        "b = str(a)\n",
        "print(type(b))\n",
        "\n",
        "# string to float\n",
        "a = \"45.45\"\n",
        "b = float(a)\n",
        "print(type(b))"
      ],
      "metadata": {
        "colab": {
          "base_uri": "https://localhost:8080/"
        },
        "id": "OgW7BLRftSQ9",
        "outputId": "1a0951ee-30ab-44bd-beb9-3d7f0bdfab55"
      },
      "execution_count": 9,
      "outputs": [
        {
          "output_type": "stream",
          "name": "stdout",
          "text": [
            "4\n",
            "<class 'str'>\n",
            "<class 'float'>\n"
          ]
        }
      ]
    },
    {
      "cell_type": "code",
      "source": [
        "# Power operator and Integer division\n",
        "\n",
        "p = 10**10\n",
        "print(p)\n",
        "\n",
        "q = 10//3\n",
        "print(q)"
      ],
      "metadata": {
        "colab": {
          "base_uri": "https://localhost:8080/"
        },
        "id": "p3suLKiMxSkG",
        "outputId": "252d8318-0e80-46b0-d0cb-d6585ecdda16"
      },
      "execution_count": 10,
      "outputs": [
        {
          "output_type": "stream",
          "name": "stdout",
          "text": [
            "10000000000\n",
            "3\n"
          ]
        }
      ]
    }
  ]
}